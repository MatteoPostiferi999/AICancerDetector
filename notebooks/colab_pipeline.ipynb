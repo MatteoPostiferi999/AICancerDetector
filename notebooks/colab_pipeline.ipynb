{
 "cells": [
  {
   "cell_type": "code",
   "execution_count": null,
   "id": "initial_id",
   "metadata": {
    "collapsed": true
   },
   "outputs": [],
   "source": [
    "try:\n",
    "    from google.colab import files\n",
    "    IN_COLAB = True\n",
    "except ImportError:\n",
    "    IN_COLAB = False\n",
    "\n",
    "if IN_COLAB:\n",
    "    files.upload()\n",
    "else:\n",
    "    print(\"⛔ Upload disabilitato: non sei su Colab.\")\n"
   ]
  },
  {
   "metadata": {},
   "cell_type": "code",
   "outputs": [],
   "execution_count": null,
   "source": [
    "# 📍 Step 2: Configura l'ambiente Kaggle e installa la libreria\n",
    "!mkdir -p ~/.kaggle\n",
    "!cp kaggle.json ~/.kaggle/\n",
    "!chmod 600 ~/.kaggle/kaggle.json\n",
    "!pip install -q kaggle\n"
   ],
   "id": "c71ffedfd1d3fe9"
  },
  {
   "metadata": {},
   "cell_type": "code",
   "outputs": [],
   "execution_count": null,
   "source": [
    "# 📦 Step 3: Scarica e decomprimi il dataset da Kaggle\n",
    "!kaggle datasets download -d paultimothymooney/breast-histopathology-images --unzip -p /content/dataset\n"
   ],
   "id": "88ca0f53a429662"
  },
  {
   "metadata": {},
   "cell_type": "code",
   "outputs": [],
   "execution_count": null,
   "source": [
    "# 🧪 Step 4: Esplora la struttura del dataset scaricato\n",
    "import os\n",
    "\n",
    "root = \"/content/dataset\"\n",
    "patients = os.listdir(root)\n",
    "print(f\"🧬 Pazienti trovati: {len(patients)}\")\n",
    "print(\"📂 Esempi di cartelle:\", patients[:5])\n",
    "\n",
    "count = sum([len(files) for _, _, files in os.walk(root)])\n",
    "print(f\"🖼️ Immagini totali: {count}\")\n"
   ],
   "id": "6e2876456ae28348"
  },
  {
   "metadata": {},
   "cell_type": "code",
   "outputs": [],
   "execution_count": null,
   "source": [
    "# 🧳 Step 5: Carica il tuo progetto ZIP creato su PyCharm\n",
    "try:\n",
    "    from google.colab import files\n",
    "    IN_COLAB = True\n",
    "except ImportError:\n",
    "    IN_COLAB = False\n",
    "\n",
    "if IN_COLAB:\n",
    "    files.upload()\n",
    "else:\n",
    "    print(\"⛔ Upload disabilitato: non sei su Colab.\")\n"
   ],
   "id": "dd6f0cbc9cab17d8"
  },
  {
   "metadata": {},
   "cell_type": "code",
   "outputs": [],
   "execution_count": null,
   "source": [
    "# 📂 Step 6: Estrai lo zip del progetto\n",
    "!unzip CancerDetector.zip\n"
   ],
   "id": "39ff05137963c014"
  }
 ],
 "metadata": {
  "kernelspec": {
   "display_name": "Python 3",
   "language": "python",
   "name": "python3"
  },
  "language_info": {
   "codemirror_mode": {
    "name": "ipython",
    "version": 2
   },
   "file_extension": ".py",
   "mimetype": "text/x-python",
   "name": "python",
   "nbconvert_exporter": "python",
   "pygments_lexer": "ipython2",
   "version": "2.7.6"
  }
 },
 "nbformat": 4,
 "nbformat_minor": 5
}
