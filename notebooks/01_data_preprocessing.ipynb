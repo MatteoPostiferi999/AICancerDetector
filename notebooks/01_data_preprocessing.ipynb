{
 "cells": [
  {
   "cell_type": "code",
   "execution_count": null,
   "id": "initial_id",
   "metadata": {
    "collapsed": true
   },
   "outputs": [],
   "source": [
    "# 📦 Step 1: Import e path\n",
    "import sys\n",
    "import os\n",
    "import random\n",
    "import matplotlib.pyplot as plt\n",
    "from PIL import Image\n",
    "\n",
    "sys.path.append(\"../src\")  # per PyCharm\n",
    "# oppure \"/content/src\" se su Colab\n",
    "\n",
    "from src.dataset_loader import get_dataloader\n",
    "\n",
    "# 🧹 Step 2: Prepara il dataset (se non è già stato fatto)\n",
    "prepared_path = \"datasets/dataset_prepared/train\"  # PyCharm\n",
    "# oppure \"/content/dataset_prepared/train\" su Colab\n",
    "\n",
    "if not os.path.exists(prepared_path):\n",
    "    print(\"⚠️ Dataset non ancora preparato. Avvio preprocessing...\")\n",
    "    from src.prepare_dataset import prepare_dataset\n",
    "\n",
    "    prepare_dataset()\n",
    "else:\n",
    "    print(\"✅ Dataset già presente. Salto preprocessing.\")\n",
    "\n",
    "# 📥 Step 3: Carica il dataloader (solo train per ora)\n",
    "dataset, dataloader = get_dataloader(\n",
    "    data_dir=prepared_path,\n",
    "    batch_size=32\n",
    ")\n",
    "\n",
    "print(f\"✅ Dataset caricato correttamente! Immagini: {len(dataset)}\")\n",
    "\n",
    "# 🖼️ Step 4: Visualizza un'immagine a caso\n",
    "sample_path = os.path.join(prepared_path, \"IDC\")\n",
    "img_name = random.choice(os.listdir(sample_path))\n",
    "img = Image.open(os.path.join(sample_path, img_name))\n",
    "\n",
    "plt.imshow(img)\n",
    "plt.title(\"Esempio IDC (cancerosa)\")\n",
    "plt.axis(\"off\")\n",
    "plt.show()\n"
   ]
  },
  {
   "metadata": {},
   "cell_type": "code",
   "outputs": [],
   "execution_count": null,
   "source": "",
   "id": "ec87e94561671536"
  },
  {
   "metadata": {},
   "cell_type": "code",
   "outputs": [],
   "execution_count": null,
   "source": "",
   "id": "1875f8e3f2c500eb"
  }
 ],
 "metadata": {
  "kernelspec": {
   "display_name": "Python 3",
   "language": "python",
   "name": "python3"
  },
  "language_info": {
   "codemirror_mode": {
    "name": "ipython",
    "version": 2
   },
   "file_extension": ".py",
   "mimetype": "text/x-python",
   "name": "python",
   "nbconvert_exporter": "python",
   "pygments_lexer": "ipython2",
   "version": "2.7.6"
  }
 },
 "nbformat": 4,
 "nbformat_minor": 5
}
