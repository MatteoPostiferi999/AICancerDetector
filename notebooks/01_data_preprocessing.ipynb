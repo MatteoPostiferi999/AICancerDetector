{
 "cells": [
  {
   "cell_type": "code",
   "execution_count": null,
   "id": "initial_id",
   "metadata": {
    "collapsed": true
   },
   "outputs": [],
   "source": [
    "import sys\n",
    "import os\n",
    "sys.path.append(\"../src\")  # Aggiunge la cartella src al path\n",
    "\n",
    "from src.dataset_loader import get_dataloader\n",
    "\n",
    "# Carica dataset e dataloader\n",
    "dataset, dataloader = get_dataloader(batch_size=32)\n",
    "\n",
    "# Stampa la dimensione del dataset\n",
    "print(f\"Dataset loaded successfully! Size: {len(dataset)}\")\n"
   ]
  },
  {
   "metadata": {},
   "cell_type": "code",
   "outputs": [],
   "execution_count": null,
   "source": [
    "# 🖼️ 5. Visualizza un'immagine di esempio\n",
    "\n",
    "import random\n",
    "import matplotlib.pyplot as plt\n",
    "from PIL import Image\n",
    "\n",
    "sample_path = \"datasets/dataset_prepared/train/IDC\"\n",
    "img_name = random.choice(os.listdir(sample_path))\n",
    "img = Image.open(os.path.join(sample_path, img_name))\n",
    "\n",
    "plt.imshow(img)\n",
    "plt.title(\"Esempio IDC (cancerosa)\")\n",
    "plt.axis(\"off\")\n",
    "plt.show()\n"
   ],
   "id": "ec87e94561671536"
  },
  {
   "metadata": {},
   "cell_type": "code",
   "outputs": [],
   "execution_count": null,
   "source": [
    "# 🖼️ 5. Visualizza un'immagine di esempio\n",
    "\n",
    "import random\n",
    "import matplotlib.pyplot as plt\n",
    "from PIL import Image\n",
    "\n",
    "sample_path = \"datasets/dataset_prepared/train/IDC\"\n",
    "img_name = random.choice(os.listdir(sample_path))\n",
    "img = Image.open(os.path.join(sample_path, img_name))\n",
    "\n",
    "plt.imshow(img)\n",
    "plt.title(\"Esempio IDC (cancerosa)\")\n",
    "plt.axis(\"off\")\n",
    "plt.show()\n"
   ],
   "id": "1875f8e3f2c500eb"
  }
 ],
 "metadata": {
  "kernelspec": {
   "display_name": "Python 3",
   "language": "python",
   "name": "python3"
  },
  "language_info": {
   "codemirror_mode": {
    "name": "ipython",
    "version": 2
   },
   "file_extension": ".py",
   "mimetype": "text/x-python",
   "name": "python",
   "nbconvert_exporter": "python",
   "pygments_lexer": "ipython2",
   "version": "2.7.6"
  }
 },
 "nbformat": 4,
 "nbformat_minor": 5
}
