{
 "cells": [
  {
   "cell_type": "code",
   "execution_count": null,
   "id": "initial_id",
   "metadata": {
    "collapsed": true
   },
   "outputs": [],
   "source": [
    "# 📦 Step 1: Import e path\n",
    "import sys\n",
    "import os\n",
    "import random\n",
    "import matplotlib.pyplot as plt\n",
    "from PIL import Image\n",
    "\n",
    "sys.path.append(\"/content/src\")  \n",
    "\n",
    "from src.dataset_loader import get_dataloader\n",
    "\n",
    "# 🧹 Step 2: Prepara il dataset (se non è già stato fatto)\n",
    "prepared_path = \"/content/dataset_prepared/train\"\n",
    "\n",
    "if not os.path.exists(prepared_path) or len(os.listdir(prepared_path)) == 0:\n",
    "    print(\"⚠️ Dataset non preparato o vuoto. Avvio preprocessing...\")\n",
    "    from src.prepare_dataset import prepare_dataset\n",
    "\n",
    "    prepare_dataset(\n",
    "        origin_root=\"/content/dataset/IDC_regular_ps50_idx5\",\n",
    "        dest_root=\"/content/dataset_prepared\"\n",
    "    )\n",
    "else:\n",
    "    print(\"✅ Dataset già presente e valido. Salto preprocessing.\")\n",
    "\n",
    "# 📥 Step 3: Carica il dataloader (solo train per ora)\n",
    "dataset, dataloader = get_dataloader(\n",
    "    data_dir=prepared_path,\n",
    "    batch_size=32\n",
    ")\n",
    "\n",
    "print(f\"✅ Dataset caricato correttamente! Immagini: {len(dataset)}\")\n",
    "\n",
    "# 🖼️ Step 4: Visualizza un'immagine a caso (IDC = classe 1)\n",
    "sample_path = os.path.join(prepared_path, \"IDC\")  # 1 = cancerosa\n",
    "img_name = random.choice(os.listdir(sample_path))\n",
    "img = Image.open(os.path.join(sample_path, img_name))\n",
    "\n",
    "plt.imshow(img)\n",
    "plt.title(\"Esempio IDC (cancerosa)\")\n",
    "plt.axis(\"off\")\n",
    "plt.show()\n"
   ]
  }
 ],
 "metadata": {
  "kernelspec": {
   "display_name": "Python 3",
   "language": "python",
   "name": "python3"
  },
  "language_info": {
   "codemirror_mode": {
    "name": "ipython",
    "version": 2
   },
   "file_extension": ".py",
   "mimetype": "text/x-python",
   "name": "python",
   "nbconvert_exporter": "python",
   "pygments_lexer": "ipython2",
   "version": "2.7.6"
  }
 },
 "nbformat": 4,
 "nbformat_minor": 5
}
