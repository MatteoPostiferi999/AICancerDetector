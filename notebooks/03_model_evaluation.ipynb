{
 "cells": [
  {
   "metadata": {},
   "cell_type": "code",
   "outputs": [],
   "execution_count": null,
   "source": [
    "# 📦 Setup\n",
    "import sys\n",
    "sys.path.append(\"../src\")\n",
    "\n",
    "import torch\n",
    "from src.utils import load_trained_model\n",
    "from src.dataset_loader import get_dataloader\n",
    "from src.evaluate import evaluate_model\n",
    "\n",
    "# ⚙️ Configurazione\n",
    "device = torch.device(\"cuda\" if torch.cuda.is_available() else \"cpu\")\n",
    "model = load_trained_model(\"results/trained_model.pth\", num_classes=3, device=device)\n",
    "\n",
    "# 📥 Validation set\n",
    "_, val_loader = get_dataloader(batch_size=32)\n",
    "\n",
    "# 📊 Evaluation\n",
    "metrics = evaluate_model(model, val_loader)\n",
    "\n",
    "# 📈 Mostra metriche nel notebook\n",
    "for k, v in metrics.items():\n",
    "    print(f\"{k.capitalize()}: {v:.4f}\")\n"
   ],
   "id": "3b9ab855bbb9548a"
  }
 ],
 "metadata": {
  "kernelspec": {
   "display_name": "Python 3",
   "language": "python",
   "name": "python3"
  },
  "language_info": {
   "codemirror_mode": {
    "name": "ipython",
    "version": 2
   },
   "file_extension": ".py",
   "mimetype": "text/x-python",
   "name": "python",
   "nbconvert_exporter": "python",
   "pygments_lexer": "ipython2",
   "version": "2.7.6"
  }
 },
 "nbformat": 4,
 "nbformat_minor": 5
}
