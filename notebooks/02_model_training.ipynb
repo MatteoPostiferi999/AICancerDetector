{
 "cells": [
  {
   "cell_type": "code",
   "execution_count": null,
   "id": "initial_id",
   "metadata": {
    "collapsed": true
   },
   "outputs": [],
   "source": [
    "# 🔁 Caricamento moduli\n",
    "import sys\n",
    "sys.path.append(\"../src\")\n",
    "\n",
    "import torch\n",
    "import torch.nn as nn\n",
    "import torch.optim as optim\n",
    "from torchvision import models\n",
    "\n",
    "from src.dataset_loader import get_dataloader  # carica train\n",
    "import os\n",
    "\n",
    "# ⚙️ Impostazioni\n",
    "device = torch.device(\"cuda\" if torch.cuda.is_available() else \"cpu\")\n",
    "print(f\"💻 Using device: {device}\")\n",
    "\n",
    "# 📦 Dataloader\n",
    "train_path = \"/content/dataset_prepared/train\" if \"COLAB_GPU\" in os.environ else \"datasets/dataset_prepared/train\"\n",
    "dataset, dataloader = get_dataloader(data_dir=train_path, batch_size=32)\n",
    "\n",
    "# 🧠 Modello ResNet18 pre-addestrato\n",
    "model = models.resnet18(pretrained=True)\n",
    "model.fc = nn.Linear(model.fc.in_features, 2)  # 2 classi: IDC / non-IDC\n",
    "model = model.to(device)\n",
    "\n",
    "# 🔧 Loss & optimizer\n",
    "criterion = nn.CrossEntropyLoss()\n",
    "optimizer = optim.Adam(model.parameters(), lr=1e-4)\n",
    "\n",
    "# 🔁 Training loop\n",
    "EPOCHS = 10\n",
    "for epoch in range(EPOCHS):\n",
    "    model.train()\n",
    "    running_loss = 0.0\n",
    "\n",
    "    for images, labels in dataloader:\n",
    "        images, labels = images.to(device), labels.to(device)\n",
    "\n",
    "        optimizer.zero_grad()\n",
    "        outputs = model(images)\n",
    "        loss = criterion(outputs, labels)\n",
    "        loss.backward()\n",
    "        optimizer.step()\n",
    "\n",
    "        running_loss += loss.item()\n",
    "\n",
    "    avg_loss = running_loss / len(dataloader)\n",
    "    print(f\"📈 Epoch {epoch+1}/{EPOCHS} - Loss: {avg_loss:.4f}\")\n",
    "\n",
    "# 💾 Salva il modello\n",
    "os.makedirs(\"results\", exist_ok=True)\n",
    "torch.save(model.state_dict(), \"results/histology_model.pth\")\n",
    "print(\"✅ Model saved to results/histology_model.pth\")\n"
   ]
  }
 ],
 "metadata": {
  "kernelspec": {
   "display_name": "Python 3",
   "language": "python",
   "name": "python3"
  },
  "language_info": {
   "codemirror_mode": {
    "name": "ipython",
    "version": 2
   },
   "file_extension": ".py",
   "mimetype": "text/x-python",
   "name": "python",
   "nbconvert_exporter": "python",
   "pygments_lexer": "ipython2",
   "version": "2.7.6"
  }
 },
 "nbformat": 4,
 "nbformat_minor": 5
}
