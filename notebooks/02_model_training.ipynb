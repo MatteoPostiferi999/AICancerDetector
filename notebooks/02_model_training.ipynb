{
 "cells": [
  {
   "cell_type": "code",
   "execution_count": null,
   "id": "initial_id",
   "metadata": {
    "collapsed": true
   },
   "outputs": [],
   "source": [
    "# 📦 Import\n",
    "from src.dataset_loader import get_dataloader\n",
    "from src.train import train_model\n",
    "from torchvision.models import resnet18, ResNet18_Weights\n",
    "import torch.nn as nn\n",
    "import torch.optim as optim\n",
    "import torch\n",
    "import os\n",
    "import matplotlib.pyplot as plt\n",
    "import json\n",
    "\n",
    "# ⚙️ Setup\n",
    "device = torch.device(\"cuda\" if torch.cuda.is_available() else \"cpu\")\n",
    "train_path = \"datasets/dataset_prepared/train\"\n",
    "dataset, _ = get_dataloader(data_dir=train_path, batch_size=32)\n",
    "\n",
    "dataloader = torch.utils.data.DataLoader(\n",
    "    dataset, batch_size=32, shuffle=True, num_workers=2, pin_memory=True\n",
    ")\n",
    "\n",
    "# 🧠 Modello pre-addestrato + fine-tuning solo sul layer fc\n",
    "model = resnet18(weights=ResNet18_Weights.DEFAULT)\n",
    "\n",
    "# ❄️ Congela tutti i layer\n",
    "for param in model.parameters():\n",
    "    param.requires_grad = False\n",
    "\n",
    "# 🔓 Sblocca solo il classificatore finale\n",
    "model.fc = nn.Linear(model.fc.in_features, 2)\n",
    "for param in model.fc.parameters():\n",
    "    param.requires_grad = True\n",
    "\n",
    "# Sposta il modello sulla GPU/CPU\n",
    "model = model.to(device)\n",
    "\n",
    "# 🔧 Ottimizzatore solo per fc\n",
    "criterion = nn.CrossEntropyLoss()\n",
    "optimizer = optim.Adam(model.fc.parameters(), lr=1e-4)\n",
    "\n",
    "# 🔁 Training\n",
    "history, run_dir = train_model(model, dataloader, criterion, optimizer, device, epochs=10, use_wandb=True)\n",
    "\n",
    "# 📝 Salva note/commenti sulla run\n",
    "with open(os.path.join(run_dir, \"run_notes.txt\"), \"w\") as f:\n",
    "    f.write(\"🧪 Fine-tuning binario con ResNet18 (solo fc) - 10 epoche, lr=1e-4\\n\")\n",
    "    f.write(\"📌 Dataset: IDC binario - 50x50 patch\\n\")\n",
    "    f.write(\"✅ Notebook: 02_training.ipynb\\n\")\n",
    "\n",
    "# 📊 Mostra F1-score\n",
    "plt.plot(history[\"f1\"])\n",
    "plt.title(\"📈 F1-score per epoca\")\n",
    "plt.xlabel(\"Epoch\")\n",
    "plt.grid()\n",
    "plt.show()\n",
    "\n",
    "# 📂 Visualizza path della cartella risultati\n",
    "print(f\"📁 I risultati sono salvati in: {run_dir}\")\n",
    "\n",
    "# (opzionale) Visualizza contenuto del file train_history.json\n",
    "with open(os.path.join(run_dir, \"train_history.json\")) as f:\n",
    "    metrics = json.load(f)\n",
    "\n",
    "print(\"📊 F1 finale:\", metrics[\"f1\"][-1])\n"
   ]
  }
 ],
 "metadata": {
  "kernelspec": {
   "display_name": "Python 3",
   "language": "python",
   "name": "python3"
  },
  "language_info": {
   "codemirror_mode": {
    "name": "ipython",
    "version": 2
   },
   "file_extension": ".py",
   "mimetype": "text/x-python",
   "name": "python",
   "nbconvert_exporter": "python",
   "pygments_lexer": "ipython2",
   "version": "2.7.6"
  }
 },
 "nbformat": 4,
 "nbformat_minor": 5
}
