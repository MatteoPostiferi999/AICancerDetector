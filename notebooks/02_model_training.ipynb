{
 "cells": [
  {
   "cell_type": "code",
   "id": "initial_id",
   "metadata": {
    "collapsed": true,
    "ExecuteTime": {
     "end_time": "2025-04-23T12:18:53.373239Z",
     "start_time": "2025-04-23T12:18:53.354595Z"
    }
   },
   "source": [
    "# 📦 Import\n",
    "from src.dataset_loader import get_dataloader\n",
    "from src.train import train_model\n",
    "from torchvision.models import resnet18, ResNet18_Weights\n",
    "import torch.nn as nn\n",
    "import torch.optim as optim\n",
    "import torch\n",
    "import os\n",
    "import matplotlib.pyplot as plt\n",
    "import json\n",
    "\n",
    "# ⚙️ Setup\n",
    "device = torch.device(\"cuda\" if torch.cuda.is_available() else \"cpu\")\n",
    "train_path = \"/content/dataset_prepared/train\"\n",
    "dataset, _ = get_dataloader(data_dir=train_path, batch_size=32)\n",
    "\n",
    "dataloader = torch.utils.data.DataLoader(\n",
    "    dataset, batch_size=32, shuffle=True, num_workers=2, pin_memory=True\n",
    ")\n",
    "\n",
    "# 🧠 Modello pre-addestrato + fine-tuning solo sul layer fc\n",
    "model = resnet18(weights=ResNet18_Weights.DEFAULT)\n",
    "\n",
    "# ❄️ Congela tutti i layer\n",
    "for param in model.parameters():\n",
    "    param.requires_grad = False\n",
    "\n",
    "# 🔓 Sblocca solo il classificatore finale\n",
    "model.fc = nn.Linear(model.fc.in_features, 2)\n",
    "for param in model.fc.parameters():\n",
    "    param.requires_grad = True\n",
    "\n",
    "# Sposta il modello sulla GPU/CPU\n",
    "model = model.to(device)\n",
    "\n",
    "# 🔧 Ottimizzatore solo per fc\n",
    "criterion = nn.CrossEntropyLoss()\n",
    "optimizer = optim.Adam(model.fc.parameters(), lr=1e-4)\n",
    "\n",
    "# 🔁 Training\n",
    "history, run_dir = train_model(model, dataloader, criterion, optimizer, device, epochs=10, resume=False)\n",
    "#set resume to true if you want to load a checkpoint\n",
    "\n",
    "# 📝 Salva note/commenti sulla run\n",
    "with open(os.path.join(run_dir, \"run_notes.txt\"), \"w\") as f:\n",
    "    f.write(\"🧪 Fine-tuning binario con ResNet18 (solo fc) - 10 epoche, lr=1e-4\\n\")\n",
    "    f.write(\"📌 Dataset: IDC binario - 50x50 patch\\n\")\n",
    "    f.write(\"✅ Notebook: 02_training.ipynb\\n\")\n",
    "\n",
    "# 📊 Mostra F1-score\n",
    "plt.plot(history[\"f1\"])\n",
    "plt.title(\"📈 F1-score per epoca\")\n",
    "plt.xlabel(\"Epoch\")\n",
    "plt.grid()\n",
    "plt.show()\n",
    "\n",
    "# 📂 Visualizza path della cartella risultati\n",
    "print(f\"📁 I risultati sono salvati in: {run_dir}\")\n",
    "\n",
    "# (opzionale) Visualizza contenuto del file train_history.json\n",
    "with open(os.path.join(run_dir, \"train_history.json\")) as f:\n",
    "    metrics = json.load(f)\n",
    "\n",
    "print(\"📊 F1 finale:\", metrics[\"f1\"][-1])\n",
    "\n",
    "import shutil\n",
    "\n",
    "# Zippa la cartella\n",
    "run_zip_path = f\"{run_dir}.zip\"\n",
    "shutil.make_archive(run_dir, 'zip', run_dir)\n",
    "\n",
    "try:\n",
    "    from google.colab import files\n",
    "    IN_COLAB = True\n",
    "except ImportError:\n",
    "    IN_COLAB = False\n",
    "\n",
    "if IN_COLAB:\n",
    "    files.download(run_zip_path)\n",
    "else:\n",
    "    print(\"⛔ Download disabilitato: non sei su Colab.\")\n",
    "\n"
   ],
   "outputs": [
    {
     "ename": "SyntaxError",
     "evalue": "incomplete input (1288183229.py, line 80)",
     "output_type": "error",
     "traceback": [
      "  \u001B[36mCell\u001B[39m\u001B[36m \u001B[39m\u001B[32mIn[4]\u001B[39m\u001B[32m, line 80\u001B[39m\n\u001B[31m    \u001B[39m\n    ^\n\u001B[31mSyntaxError\u001B[39m\u001B[31m:\u001B[39m incomplete input\n"
     ]
    }
   ],
   "execution_count": 4
  },
  {
   "metadata": {},
   "cell_type": "code",
   "source": "",
   "id": "3b2e9275102375e7",
   "outputs": [],
   "execution_count": null
  }
 ],
 "metadata": {
  "kernelspec": {
   "display_name": "Python 3",
   "language": "python",
   "name": "python3"
  },
  "language_info": {
   "codemirror_mode": {
    "name": "ipython",
    "version": 2
   },
   "file_extension": ".py",
   "mimetype": "text/x-python",
   "name": "python",
   "nbconvert_exporter": "python",
   "pygments_lexer": "ipython2",
   "version": "2.7.6"
  }
 },
 "nbformat": 4,
 "nbformat_minor": 5
}
